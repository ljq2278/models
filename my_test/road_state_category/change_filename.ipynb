{
 "cells": [
  {
   "cell_type": "code",
   "execution_count": 1,
   "metadata": {
    "collapsed": true,
    "pycharm": {
     "is_executing": false
    }
   },
   "outputs": [],
   "source": [
    "import os\n",
    "import json\n",
    "path_root = r'D:\\dataset\\traffic_state_predict'\n",
    "path_train_jsonFile = os.path.join(path_root,'amap_traffic_annotations_train.json')\n",
    "path_train_imageFile = os.path.join(path_root,'amap_traffic_train_0712')"
   ]
  },
  {
   "cell_type": "code",
   "execution_count": 3,
   "outputs": [],
   "source": [
    "f = open(path_train_jsonFile,'r',encoding='utf-8')\n",
    "infoDict = json.load(f)\n",
    "\n"
   ],
   "metadata": {
    "collapsed": false,
    "pycharm": {
     "name": "#%%\n",
     "is_executing": false
    }
   }
  },
  {
   "cell_type": "code",
   "execution_count": 20,
   "outputs": [],
   "source": [
    "import datetime\n",
    "\n",
    "# 一些时间函数\n",
    "def dayNumDate1MinusDate2(date1,date2):\n",
    "    return (date1 - date2).days \n",
    "def dateStrToDate(dateStr):\n",
    "    return datetime.datetime(int(dateStr.split('-')[0]),int(dateStr.split('-')[1]),int(dateStr.split('-')[2]))\n",
    "def dateToDateStr(date):\n",
    "    return date.strftime('%Y-%m-%d-%H-%M-%S')\n",
    "def dateToDateInt(date):\n",
    "    return int(date.strftime('%Y%m%d'))\n",
    "def getNextDate(date):\n",
    "    return  date + datetime.timedelta(days=1)\n",
    "def getPreDate(date):\n",
    "    return  date - datetime.timedelta(days=1)\n",
    "def date1EarlyThanDate2(date1,date2):\n",
    "    return bool(int(date1.strftime('%Y%m%d'))-int(date2.strftime('%Y%m%d'))<0)\n",
    "\n",
    "processed = []\n",
    "erros = []\n",
    "for info in infoDict['annotations']:\n",
    "    # 先只试一张图片改名\n",
    "    # if info['id'] == '000001':\n",
    "        for frame in info['frames']:\n",
    "            timeStr = dateToDateStr(datetime.datetime.fromtimestamp(int(frame['gps_time'])))\n",
    "            ori_ind = frame['frame_name'].split('.')[0]\n",
    "            try:\n",
    "                if frame['frame_name'] == info['key_frame']:\n",
    "                    os.rename(os.path.join(path_train_imageFile,info['id'],frame['frame_name']),\n",
    "                              os.path.join(path_train_imageFile,info['id'],ori_ind+'_'+timeStr+'_'+str(info['status'])+'.jpg'))\n",
    "                else:\n",
    "                    os.rename(os.path.join(path_train_imageFile,info['id'],frame['frame_name']),\n",
    "                              os.path.join(path_train_imageFile,info['id'],ori_ind+'_'+timeStr+'.jpg'))\n",
    "            except Exception as e:\n",
    "                erros.append(info['id']+'_'+frame['frame_name']+'_'+str(e))\n",
    "        processed.append(info['id'])\n",
    "    "
   ],
   "metadata": {
    "collapsed": false,
    "pycharm": {
     "name": "#%%\n",
     "is_executing": false
    }
   }
  },
  {
   "cell_type": "code",
   "execution_count": 23,
   "outputs": [],
   "source": [
    "import shutil\n",
    "path_train_12cate = os.path.join(path_root,'amap_traffic_train_12cate')\n",
    "for info in infoDict['annotations']:\n",
    "    if str(info['status']) != '0':\n",
    "        for frame in info['frames']:\n",
    "            timeStr = dateToDateStr(datetime.datetime.fromtimestamp(int(frame['gps_time'])))\n",
    "            ori_ind = frame['frame_name'].split('.')[0]\n",
    "            if frame['frame_name'] == info['key_frame']:\n",
    "                shutil.copy(os.path.join(path_train_imageFile,info['id'],ori_ind+'_'+timeStr+'_'+str(info['status'])+'.jpg'),\n",
    "                            os.path.join(path_train_12cate,info['id']+'_'+ori_ind+'_'+timeStr+'_'+str(info['status'])+'.jpg'))\n",
    "            else:\n",
    "                shutil.copy(os.path.join(path_train_imageFile,info['id'],ori_ind+'_'+timeStr+'.jpg'),\n",
    "                            os.path.join(path_train_12cate,info['id']+'_'+ori_ind+'_'+timeStr+'.jpg'))\n",
    "            "
   ],
   "metadata": {
    "collapsed": false,
    "pycharm": {
     "name": "#%%\n",
     "is_executing": false
    }
   }
  },
  {
   "cell_type": "code",
   "execution_count": 25,
   "outputs": [],
   "source": [
    "import json\n",
    "# 载入初步预估结果文件\n",
    "res_ori = json.load(open(r'D:\\projects\\tensorflowModelGarden\\my_test\\road_state_category\\sub_0.6274329168118935.json','r',encoding='utf-8'))"
   ],
   "metadata": {
    "collapsed": false,
    "pycharm": {
     "name": "#%%\n",
     "is_executing": false
    }
   }
  },
  {
   "cell_type": "code",
   "execution_count": 26,
   "outputs": [],
   "source": [
    "res_ori_12 = []\n",
    "for info in res_ori['annotations']:\n",
    "    if info['status'] in [1,2]:\n",
    "        res_ori_12.append(info)\n",
    "        "
   ],
   "metadata": {
    "collapsed": false,
    "pycharm": {
     "name": "#%%\n",
     "is_executing": false
    }
   }
  },
  {
   "cell_type": "code",
   "execution_count": null,
   "outputs": [],
   "source": [
    "{\n",
    "    3:0,\n",
    "    11:1,\n",
    "    26:1,# 路窄\n",
    "    29:0,# 明显不对\n",
    "    35:0,# 明显不对\n",
    "}\n",
    "\n"
   ],
   "metadata": {
    "collapsed": false,
    "pycharm": {
     "name": "#%%\n"
    }
   }
  }
 ],
 "metadata": {
  "kernelspec": {
   "display_name": "Python 3",
   "language": "python",
   "name": "python3"
  },
  "language_info": {
   "codemirror_mode": {
    "name": "ipython",
    "version": 2
   },
   "file_extension": ".py",
   "mimetype": "text/x-python",
   "name": "python",
   "nbconvert_exporter": "python",
   "pygments_lexer": "ipython2",
   "version": "2.7.6"
  },
  "pycharm": {
   "stem_cell": {
    "cell_type": "raw",
    "source": [],
    "metadata": {
     "collapsed": false
    }
   }
  }
 },
 "nbformat": 4,
 "nbformat_minor": 0
}