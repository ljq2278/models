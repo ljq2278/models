{
 "cells": [
  {
   "cell_type": "code",
   "execution_count": null,
   "outputs": [],
   "source": [
    "# 运行参数： --model_dir=E:\\model\\official_myDataset --data_dir=E:\\data\\my_dataset --train_epochs=10 --distribution_strategy=one_device --num_gpus=1 --download\n",
    "\n",
    "# Copyright 2018 The TensorFlow Authors. All Rights Reserved.\n",
    "#\n",
    "# Licensed under the Apache License, Version 2.0 (the \"License\");\n",
    "# you may not use this file except in compliance with the License.\n",
    "# You may obtain a copy of the License at\n",
    "#\n",
    "#     http://www.apache.org/licenses/LICENSE-2.0\n",
    "#\n",
    "# Unless required by applicable law or agreed to in writing, software\n",
    "# distributed under the License is distributed on an \"AS IS\" BASIS,\n",
    "# WITHOUT WARRANTIES OR CONDITIONS OF ANY KIND, either express or implied.\n",
    "# See the License for the specific language governing permissions and\n",
    "# limitations under the License.\n",
    "# ==============================================================================\n",
    "\"\"\"Runs a simple model on the MNIST dataset.\"\"\"\n",
    "from __future__ import absolute_import\n",
    "from __future__ import division\n",
    "from __future__ import print_function\n",
    "\n",
    "import os\n",
    "\n",
    "from absl import app\n",
    "from absl import flags\n",
    "from absl import logging\n",
    "import tensorflow as tf\n",
    "import tensorflow_datasets as tfds\n",
    "\n",
    "from official.utils.flags import core as flags_core\n",
    "from official.utils.misc import distribution_utils\n",
    "from official.utils.misc import model_helpers\n",
    "from official.vision.image_classification.resnet import common\n",
    "from sklearn.metrics import f1_score, precision_recall_fscore_support\n",
    "import numpy as np\n",
    "import json\n",
    "\n",
    "FLAGS = flags.FLAGS"
   ],
   "metadata": {
    "collapsed": false,
    "pycharm": {
     "name": "#%%\n"
    }
   }
  },
  {
   "cell_type": "code",
   "execution_count": null,
   "outputs": [],
   "source": [
    "def build_model(desc_list_tuple):\n",
    "    # desc_list_tuple描述了输入有几个特征，他们分别有多少特征值，每个特征值映射到几维向量。\n",
    "    # 其中左边数组表示输入尺度，右侧数组表示映射后尺度\n",
    "    # 如[[3,5,10,5],[4,6,4,8]] 表示一共有四种特征，第一种特征有三种取值，分别映射成一个4维向量（参数数量为3*4）,\n",
    "    # input的第一维就是[1,0,0]或[0,1,0]或[0,0,1]，表示-1,0,1三种取值\n",
    "\n",
    "    \n",
    "    input = tf.keras.layers.Input(shape=(sum(desc_list_tuple[0]),), name='input')\n",
    "      \n",
    "    xs = tf.split(desc_list_tuple[0])\n",
    "    embedings = []\n",
    "    for i,x in enumerate(xs):\n",
    "       embedings.append(tf.keras.layers.Dense(desc_list_tuple[1][i],activation=None,use_bias=False)(x)) \n",
    "    y = tf.keras.layers.Concatenate(embedings)\n",
    "\n",
    "    probs = tf.keras.layers.Dense(3, activation='softmax')(y)\n",
    "\n",
    "    model = tf.keras.models.Model(input, probs, name='my_emb_test')\n",
    "\n",
    "    return model"
   ],
   "metadata": {
    "collapsed": false,
    "pycharm": {
     "name": "#%%\n"
    }
   }
  },
  {
   "cell_type": "code",
   "execution_count": null,
   "outputs": [],
   "source": [
    "def run(flags_obj, datasets_override=None, strategy_override=None):\n",
    "    \n",
    "    strategy = strategy_override or distribution_utils.get_distribution_strategy(\n",
    "        distribution_strategy='one_device',\n",
    "        num_gpus=0\n",
    "    )\n",
    "\n",
    "    strategy_scope = distribution_utils.get_strategy_scope(strategy)\n",
    "\n",
    "    ds = tfds.builder('my_recom_dataset', data_dir=flags_obj.data_dir)\n",
    "    \n",
    "    if flags_obj.download:\n",
    "        ds.download_and_prepare()\n",
    "\n",
    "    mnist_train, mnist_vali = datasets_override or ds.as_dataset(\n",
    "        split=['train', 'test'],\n",
    "\n",
    "    )\n",
    "\n",
    "    train_input_dataset = mnist_train.cache().repeat(10000).shuffle(buffer_size=100000).batch(32)\n",
    "    eval_input_dataset = mnist_vali.cache().repeat().batch(300)\n",
    "\n",
    "    with strategy_scope:\n",
    "        lr_schedule = tf.keras.optimizers.schedules.ExponentialDecay(\n",
    "            0.002, decay_steps=100000, decay_rate=0.96)\n",
    "        optimizer = tf.keras.optimizers.Adam(learning_rate=lr_schedule)\n",
    "\n",
    "        model = build_model([[3,5,10,5],[4,6,4,8]])\n",
    "\n",
    "        model.compile(\n",
    "            optimizer=optimizer,\n",
    "            loss='sparse_categorical_crossentropy',\n",
    "            metrics=['sparse_categorical_accuracy']\n",
    "        )\n",
    "    best_score = 0\n",
    "    res = {}\n",
    "    for indx, (train_data, vali_data) in enumerate(zip(train_input_dataset.as_numpy_iterator(), eval_input_dataset.as_numpy_iterator())):\n",
    "        print(model.train_on_batch(\n",
    "            x=[train_data['image12'], train_data['image6'], train_data['image3'], train_data['road'],\n",
    "               train_data['roadExt']],\n",
    "            y=train_data['label'],\n",
    "            class_weight={0: 1, 1: 3, 2: 6}\n",
    "            # class_weight={0: 2, 1: 8}\n",
    "        ))\n",
    "        if indx % 50 == 0:\n",
    "            print(\n",
    "                '@@@@@@@@@@@@@@@@@@@@@@@@@@@@@@@@@@@@@@@@@@@@@@@@@@@@@@@@@@@@@@@@@@@@@@@@@@@@@@@@@@@@@@@@@@@@@@@@@@@@@@@@@@@@@@@@@')\n",
    "            print(model.test_on_batch(\n",
    "                x=[vali_data['image12'], vali_data['image6'], vali_data['image3'], vali_data['road'],\n",
    "                   vali_data['roadExt']], y=vali_data['label']))\n",
    "            outputs = model.predict_on_batch(\n",
    "                x=[vali_data['image12'], vali_data['image6'], vali_data['image3'], vali_data['road'],\n",
    "                   vali_data['roadExt']])\n",
    "            truth = vali_data['label']\n",
    "            # print(f1_score(truth,np.argmax(outputs,axis=-1),average='weighted'))\n",
    "            p_class, r_class, f_class, support_micro = precision_recall_fscore_support(truth,np.argmax(outputs, axis=-1),labels=[0, 1,2])\n",
    "            print(f_class)\n",
    "            # print(0.2*f_class[0]+0.2*f_class[1]+0.6*f_class[2])\n",
    "            print('@@@@@@@@@@@@@@@@@@@@@@@@@@@@@@@@@@@@@@@@@@@@@@@@@@@@@@@@@@@@@@@@@@@@@@@@@@@@@@@@@@@@@@@@@@@@@@@@@@@@@@@@@@@@@@@@@')\n",
    "            if 0.2 * f_class[0] + 0.2 * f_class[1] + 0.6 * f_class[2] > best_score:\n",
    "                export_path = os.path.join(flags_obj.model_dir, 'saved_model')\n",
    "                model.save(export_path, include_optimizer=False)\n",
    "                best_score = 0.2 * f_class[0] + 0.2 * f_class[1] + 0.6 * f_class[2]\n",
    "\n",
    "    return 'over'"
   ],
   "metadata": {
    "collapsed": false,
    "pycharm": {
     "name": "#%%\n"
    }
   }
  },
  {
   "cell_type": "code",
   "execution_count": null,
   "outputs": [],
   "source": [
    "def define_mnist_flags():\n",
    "    \"\"\"Define command line flags for MNIST model.\"\"\"\n",
    "    flags_core.define_base(\n",
    "        clean=True,\n",
    "        num_gpu=True,\n",
    "        train_epochs=True,\n",
    "        epochs_between_evals=True,\n",
    "        distribution_strategy=True)\n",
    "    flags_core.define_device()\n",
    "    flags_core.define_distribution()\n",
    "    flags.DEFINE_bool('download', False,\n",
    "                      'Whether to download data to `--data_dir`.')\n",
    "    # FLAGS.set_default('batch_size', 16)"
   ],
   "metadata": {
    "collapsed": false,
    "pycharm": {
     "name": "#%%\n"
    }
   }
  },
  {
   "cell_type": "code",
   "execution_count": null,
   "outputs": [],
   "source": [
    "def main(_):\n",
    "    model_helpers.apply_clean(FLAGS)\n",
    "    stats = run(flags.FLAGS)\n",
    "    logging.info('Run stats:\\n%s', stats)\n",
    "\n",
    "\n",
    "\n"
   ],
   "metadata": {
    "collapsed": false,
    "pycharm": {
     "name": "#%%\n"
    }
   }
  },
  {
   "cell_type": "code",
   "execution_count": null,
   "outputs": [],
   "source": [
    "if __name__ == '__main__':\n",
    "    logging.set_verbosity(logging.INFO)\n",
    "    define_mnist_flags()\n",
    "    app.run(main)\n"
   ],
   "metadata": {
    "collapsed": false,
    "pycharm": {
     "name": "#%%\n"
    }
   }
  }
 ],
 "metadata": {
  "kernelspec": {
   "display_name": "Python 3",
   "language": "python",
   "name": "python3"
  },
  "language_info": {
   "codemirror_mode": {
    "name": "ipython",
    "version": 2
   },
   "file_extension": ".py",
   "mimetype": "text/x-python",
   "name": "python",
   "nbconvert_exporter": "python",
   "pygments_lexer": "ipython2",
   "version": "2.7.6"
  },
  "pycharm": {
   "stem_cell": {
    "cell_type": "raw",
    "source": [],
    "metadata": {
     "collapsed": false
    }
   }
  }
 },
 "nbformat": 4,
 "nbformat_minor": 0
}