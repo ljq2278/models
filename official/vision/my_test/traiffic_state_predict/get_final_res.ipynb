{
 "cells": [
  {
   "cell_type": "code",
   "execution_count": 28,
   "metadata": {
    "collapsed": true,
    "pycharm": {
     "is_executing": false
    }
   },
   "outputs": [],
   "source": [
    "import json\n",
    "f=open(r'res_vali.json','r',encoding='utf-8')\n",
    "res = json.load(f)"
   ]
  },
  {
   "cell_type": "code",
   "execution_count": 29,
   "outputs": [],
   "source": [
    "new_res_dict = {}\n",
    "for fname,v in res.items():\n",
    "    # fname_real = '-1_'+fname.split('_')[1]+'_'+fname.split('_')[2]+'.json'\n",
    "    fname_real = fname.split('_')[1]\n",
    "    new_res_dict[fname_real] = [v] if new_res_dict.get(fname_real) is None else new_res_dict[fname_real]+[v]"
   ],
   "metadata": {
    "collapsed": false,
    "pycharm": {
     "name": "#%%\n",
     "is_executing": false
    }
   }
  },
  {
   "cell_type": "code",
   "execution_count": 30,
   "outputs": [],
   "source": [
    "import numpy as np\n",
    "new_res = {}\n",
    "for fname,v_list in new_res_dict.items():\n",
    "    v_list_np = np.array([[float(x) for x in itm.split(',')] for itm in v_list])\n",
    "    res012 = np.mean(v_list_np,axis=0)\n",
    "    new_res[fname] = ','.join([str(itm) for itm in res012])"
   ],
   "metadata": {
    "collapsed": false,
    "pycharm": {
     "name": "#%%\n",
     "is_executing": false
    }
   }
  },
  {
   "cell_type": "code",
   "execution_count": 31,
   "outputs": [],
   "source": [
    "json.dump(new_res,open('new_res_vali.json','w',encoding='utf-8'))  \n",
    "\n",
    "\n",
    "\n",
    "\n",
    "\n"
   ],
   "metadata": {
    "collapsed": false,
    "pycharm": {
     "name": "#%%\n",
     "is_executing": false
    }
   }
  },
  {
   "cell_type": "code",
   "execution_count": null,
   "outputs": [],
   "source": [
    "print(np.sum((np.array(list(new_res.items()))[:,1]=='1').astype(int)))\n"
   ],
   "metadata": {
    "collapsed": false,
    "pycharm": {
     "name": "#%%\n"
    }
   }
  },
  {
   "cell_type": "code",
   "execution_count": 18,
   "outputs": [],
   "source": [
    "tmp=np.array(list(new_res.items()))[:,1]=='1'\n",
    "\n"
   ],
   "metadata": {
    "collapsed": false,
    "pycharm": {
     "name": "#%%\n",
     "is_executing": false
    }
   }
  }
 ],
 "metadata": {
  "kernelspec": {
   "display_name": "Python 3",
   "language": "python",
   "name": "python3"
  },
  "language_info": {
   "codemirror_mode": {
    "name": "ipython",
    "version": 2
   },
   "file_extension": ".py",
   "mimetype": "text/x-python",
   "name": "python",
   "nbconvert_exporter": "python",
   "pygments_lexer": "ipython2",
   "version": "2.7.6"
  },
  "pycharm": {
   "stem_cell": {
    "cell_type": "raw",
    "source": [],
    "metadata": {
     "collapsed": false
    }
   }
  }
 },
 "nbformat": 4,
 "nbformat_minor": 0
}